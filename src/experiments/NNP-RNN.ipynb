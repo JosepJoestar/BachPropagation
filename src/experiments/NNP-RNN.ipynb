{
 "cells": [
  {
   "cell_type": "code",
   "execution_count": 20,
   "metadata": {},
   "outputs": [
    {
     "name": "stdout",
     "output_type": "stream",
     "text": [
      "Read 2089 already cached notes!\n",
      "58 unique notes found.\n"
     ]
    }
   ],
   "source": [
    "import os\n",
    "import glob\n",
    "import pickle\n",
    "\n",
    "import torch\n",
    "import music21 as m21\n",
    "\n",
    "from torch.utils.data import Dataset, DataLoader\n",
    "from tqdm import tqdm_notebook as tqdm\n",
    "\n",
    "BATCH_SIZE = 32\n",
    "\n",
    "class MusicDataset(Dataset):\n",
    "    def __init__(self, force_update=False, seq_len=100):\n",
    "        self._read_notes(force_update)\n",
    "        self._prepare_sequences(seq_len)\n",
    "        \n",
    "    def _read_notes(self, force_update=False):\n",
    "        path = 'notes.pk'\n",
    "        if not force_update and os.path.exists(path):\n",
    "            with open(path, mode='rb') as f:\n",
    "                notes = pickle.load(f)\n",
    "            print(f'Read {len(notes)} already cached notes!')\n",
    "        else:\n",
    "            notes = []\n",
    "            for file in tqdm(glob.glob('../../res/dataset/raw/*.mid'), ncols=800):\n",
    "                midi = m21.converter.parse(file)\n",
    "\n",
    "                notes_to_parse = None\n",
    "                try: # file has instrument parts\n",
    "                    s2 = m21.instrument.partitionByInstrument(midi)\n",
    "                    notes_to_parse = s2.parts[0].recurse() \n",
    "                except: # file has notes in a flat structure\n",
    "                    notes_to_parse = midi.flat.notes\n",
    "\n",
    "                for element in notes_to_parse:\n",
    "                    if isinstance(element, m21.note.Note):\n",
    "                        notes.append(str(element.pitch))\n",
    "                    elif isinstance(element, m21.chord.Chord):\n",
    "                        notes.append('.'.join(str(n) for n in element.normalOrder))\n",
    "\n",
    "            with open(path, 'wb') as filepath:\n",
    "                pickle.dump(notes, filepath)\n",
    "\n",
    "            print(f'Read {len(otes)} notes!')\n",
    "\n",
    "        n_vocab = len(set(notes))\n",
    "        print(f'{n_vocab} unique notes found.')\n",
    "        \n",
    "        self.notes = notes\n",
    "        self.n_vocab = n_vocab\n",
    "    \n",
    "    def _prepare_sequences(self, seq_len=100):\n",
    "        pitchnames = sorted(set(item for item in self.notes))\n",
    "        note2idx = {note: number for number, note in enumerate(pitchnames)}\n",
    "\n",
    "        features = []\n",
    "        labels = []\n",
    "\n",
    "        for i in range(0, len(self.notes) - seq_len, 1):\n",
    "            seq_inputs = self.notes[i:i + seq_len]\n",
    "            seq_output = self.notes[i + seq_len]\n",
    "            features.append([note2idx[x] for x in seq_inputs])\n",
    "            labels.append(note2idx[seq_output])\n",
    "\n",
    "        features = torch.tensor(features, dtype=torch.float).view((-1, seq_len, 1))\n",
    "        features = features / float(self.n_vocab)\n",
    "\n",
    "        self.features = features\n",
    "        self.labels = labels\n",
    "        \n",
    "    def __getitem__(self, i):\n",
    "        return self.features[i], self.labels[i]\n",
    "\n",
    "    def __len__(self) -> int:\n",
    "        return len(self.features)\n",
    "    \n",
    "use_cuda = torch.cuda.is_available()\n",
    "kwargs = {'num_workers': 4, 'pin_memory': True} if use_cuda else {}\n",
    "dataset = MusicDataset()\n",
    "dataloader = DataLoader(dataset, batch_size=BATCH_SIZE, shuffle=True, **kwargs)"
   ]
  },
  {
   "cell_type": "code",
   "execution_count": 53,
   "metadata": {},
   "outputs": [],
   "source": [
    "from torch import nn\n",
    "from torch.nn import functional as F\n",
    "\n",
    "class NNP_RNN(nn.Module):\n",
    "    def __init__(self, hd=250, layers=3):\n",
    "        super(NNP_RNN, self).__init__()\n",
    "            \n",
    "        self.hd = hd\n",
    "        \n",
    "        dropout = 0.2 if layers > 1 else 0\n",
    "        self.lstm = nn.LSTM(input_size=1,\n",
    "                            hidden_size=hd,\n",
    "                            num_layers=layers,\n",
    "                            dropout=dropout,\n",
    "                            batch_first=True)\n",
    "\n",
    "        self.dense_1 = nn.Linear(in_features=250,\n",
    "                                 out_features=100)\n",
    "        \n",
    "        \n",
    "        self.dense_2 = nn.Linear(in_features=100,\n",
    "                                 out_features=58)\n",
    "        \n",
    "    def forward(self, x):\n",
    "        x, _ = self.lstm(x)\n",
    "        \n",
    "        x = self.dense_1(x)\n",
    "        x = self.dense_2(x)\n",
    "        \n",
    "        x = x[:, -1, :]\n",
    "        return F.softmax(x, dim=1)\n",
    "    \n",
    "    def init_hidden(dims):\n",
    "        return torch.zeros(device=device)\n",
    "        \n",
    "    \n",
    "model = NNP_RNN()"
   ]
  },
  {
   "cell_type": "code",
   "execution_count": 55,
   "metadata": {},
   "outputs": [
    {
     "data": {
      "application/vnd.jupyter.widget-view+json": {
       "model_id": "534abef0664a43159b7956efb7a0337b",
       "version_major": 2,
       "version_minor": 0
      },
      "text/plain": [
       "HBox(children=(IntProgress(value=0, layout=Layout(flex='2'), max=63), HTML(value='')), layout=Layout(display='…"
      ]
     },
     "metadata": {},
     "output_type": "display_data"
    },
    {
     "name": "stdout",
     "output_type": "stream",
     "text": [
      "Loss epoch #1 = 3.9916024208\n"
     ]
    },
    {
     "data": {
      "application/vnd.jupyter.widget-view+json": {
       "model_id": "334796c9dce04fd396d78fe171657419",
       "version_major": 2,
       "version_minor": 0
      },
      "text/plain": [
       "HBox(children=(IntProgress(value=0, layout=Layout(flex='2'), max=63), HTML(value='')), layout=Layout(display='…"
      ]
     },
     "metadata": {},
     "output_type": "display_data"
    },
    {
     "ename": "KeyboardInterrupt",
     "evalue": "",
     "output_type": "error",
     "traceback": [
      "\u001b[0;31m---------------------------------------------------------------------------\u001b[0m",
      "\u001b[0;31mKeyboardInterrupt\u001b[0m                         Traceback (most recent call last)",
      "\u001b[0;32m<ipython-input-55-1708f9d7a1a0>\u001b[0m in \u001b[0;36m<module>\u001b[0;34m\u001b[0m\n\u001b[1;32m     21\u001b[0m         \u001b[0mprint\u001b[0m\u001b[0;34m(\u001b[0m\u001b[0;34mf'Loss epoch #{epoch} = {epoch_loss:.10f}'\u001b[0m\u001b[0;34m)\u001b[0m\u001b[0;34m\u001b[0m\u001b[0;34m\u001b[0m\u001b[0m\n\u001b[1;32m     22\u001b[0m \u001b[0;34m\u001b[0m\u001b[0m\n\u001b[0;32m---> 23\u001b[0;31m \u001b[0mtrain\u001b[0m\u001b[0;34m(\u001b[0m\u001b[0mmodel\u001b[0m\u001b[0;34m,\u001b[0m \u001b[0mdataloader\u001b[0m\u001b[0;34m)\u001b[0m\u001b[0;34m\u001b[0m\u001b[0;34m\u001b[0m\u001b[0m\n\u001b[0m",
      "\u001b[0;32m<ipython-input-55-1708f9d7a1a0>\u001b[0m in \u001b[0;36mtrain\u001b[0;34m(model, data, epochs)\u001b[0m\n\u001b[1;32m     12\u001b[0m \u001b[0;34m\u001b[0m\u001b[0m\n\u001b[1;32m     13\u001b[0m             \u001b[0mloss\u001b[0m \u001b[0;34m=\u001b[0m \u001b[0mcriterion\u001b[0m\u001b[0;34m(\u001b[0m\u001b[0moutput\u001b[0m\u001b[0;34m,\u001b[0m \u001b[0mlabels\u001b[0m\u001b[0;34m)\u001b[0m\u001b[0;34m\u001b[0m\u001b[0;34m\u001b[0m\u001b[0m\n\u001b[0;32m---> 14\u001b[0;31m             \u001b[0mloss\u001b[0m\u001b[0;34m.\u001b[0m\u001b[0mbackward\u001b[0m\u001b[0;34m(\u001b[0m\u001b[0;34m)\u001b[0m\u001b[0;34m\u001b[0m\u001b[0;34m\u001b[0m\u001b[0m\n\u001b[0m\u001b[1;32m     15\u001b[0m \u001b[0;34m\u001b[0m\u001b[0m\n\u001b[1;32m     16\u001b[0m             \u001b[0moptimizer\u001b[0m\u001b[0;34m.\u001b[0m\u001b[0mstep\u001b[0m\u001b[0;34m(\u001b[0m\u001b[0;34m)\u001b[0m\u001b[0;34m\u001b[0m\u001b[0;34m\u001b[0m\u001b[0m\n",
      "\u001b[0;32m~/anaconda3/envs/MLDL/lib/python3.6/site-packages/torch/tensor.py\u001b[0m in \u001b[0;36mbackward\u001b[0;34m(self, gradient, retain_graph, create_graph)\u001b[0m\n\u001b[1;32m    100\u001b[0m                 \u001b[0mproducts\u001b[0m\u001b[0;34m.\u001b[0m \u001b[0mDefaults\u001b[0m \u001b[0mto\u001b[0m\u001b[0;31m \u001b[0m\u001b[0;31m`\u001b[0m\u001b[0;31m`\u001b[0m\u001b[0;32mFalse\u001b[0m\u001b[0;31m`\u001b[0m\u001b[0;31m`\u001b[0m\u001b[0;34m.\u001b[0m\u001b[0;34m\u001b[0m\u001b[0;34m\u001b[0m\u001b[0m\n\u001b[1;32m    101\u001b[0m         \"\"\"\n\u001b[0;32m--> 102\u001b[0;31m         \u001b[0mtorch\u001b[0m\u001b[0;34m.\u001b[0m\u001b[0mautograd\u001b[0m\u001b[0;34m.\u001b[0m\u001b[0mbackward\u001b[0m\u001b[0;34m(\u001b[0m\u001b[0mself\u001b[0m\u001b[0;34m,\u001b[0m \u001b[0mgradient\u001b[0m\u001b[0;34m,\u001b[0m \u001b[0mretain_graph\u001b[0m\u001b[0;34m,\u001b[0m \u001b[0mcreate_graph\u001b[0m\u001b[0;34m)\u001b[0m\u001b[0;34m\u001b[0m\u001b[0;34m\u001b[0m\u001b[0m\n\u001b[0m\u001b[1;32m    103\u001b[0m \u001b[0;34m\u001b[0m\u001b[0m\n\u001b[1;32m    104\u001b[0m     \u001b[0;32mdef\u001b[0m \u001b[0mregister_hook\u001b[0m\u001b[0;34m(\u001b[0m\u001b[0mself\u001b[0m\u001b[0;34m,\u001b[0m \u001b[0mhook\u001b[0m\u001b[0;34m)\u001b[0m\u001b[0;34m:\u001b[0m\u001b[0;34m\u001b[0m\u001b[0;34m\u001b[0m\u001b[0m\n",
      "\u001b[0;32m~/anaconda3/envs/MLDL/lib/python3.6/site-packages/torch/autograd/__init__.py\u001b[0m in \u001b[0;36mbackward\u001b[0;34m(tensors, grad_tensors, retain_graph, create_graph, grad_variables)\u001b[0m\n\u001b[1;32m     88\u001b[0m     Variable._execution_engine.run_backward(\n\u001b[1;32m     89\u001b[0m         \u001b[0mtensors\u001b[0m\u001b[0;34m,\u001b[0m \u001b[0mgrad_tensors\u001b[0m\u001b[0;34m,\u001b[0m \u001b[0mretain_graph\u001b[0m\u001b[0;34m,\u001b[0m \u001b[0mcreate_graph\u001b[0m\u001b[0;34m,\u001b[0m\u001b[0;34m\u001b[0m\u001b[0;34m\u001b[0m\u001b[0m\n\u001b[0;32m---> 90\u001b[0;31m         allow_unreachable=True)  # allow_unreachable flag\n\u001b[0m\u001b[1;32m     91\u001b[0m \u001b[0;34m\u001b[0m\u001b[0m\n\u001b[1;32m     92\u001b[0m \u001b[0;34m\u001b[0m\u001b[0m\n",
      "\u001b[0;31mKeyboardInterrupt\u001b[0m: "
     ]
    }
   ],
   "source": [
    "def train(model, data, epochs=100):\n",
    "    optimizer = torch.optim.Adam(model.parameters())\n",
    "    criterion = nn.CrossEntropyLoss()\n",
    "    \n",
    "    for epoch in range(1, epochs + 1):\n",
    "        epoch_loss = 0\n",
    "        for features, labels in tqdm(data, ncols=800):\n",
    "            optimizer.zero_grad()\n",
    "            \n",
    "            batch_size = features.size(0)\n",
    "            output = model(features)\n",
    "            \n",
    "            loss = criterion(output, labels)\n",
    "            loss.backward()\n",
    "                \n",
    "            optimizer.step()\n",
    "            \n",
    "            epoch_loss += loss * batch_size\n",
    "            \n",
    "        epoch_loss /= len(data.dataset)\n",
    "        print(f'Loss epoch #{epoch} = {epoch_loss:.10f}')\n",
    "\n",
    "train(model, dataloader)"
   ]
  }
 ],
 "metadata": {
  "kernelspec": {
   "display_name": "Python [conda env:MLDL]",
   "language": "python",
   "name": "conda-env-MLDL-py"
  }
 },
 "nbformat": 4,
 "nbformat_minor": 2
}
